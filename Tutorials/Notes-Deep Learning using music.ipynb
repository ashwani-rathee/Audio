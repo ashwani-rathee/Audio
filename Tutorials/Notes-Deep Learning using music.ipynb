{
 "cells": [
  {
   "cell_type": "markdown",
   "metadata": {},
   "source": [
    "<h2><u>Content:</u></h2>\n",
    "<ul>\n",
    "<li>AL/ML/DL</li>\n",
    "<li>Multilayer perceptron</li>\n",
    "<li>Convolutional Neural Networks</li>\n",
    "<li>Recurrent Neural Networks</li>\n",
    "<li>Generative Adversarial Networks</li>\n",
    "</ul>"
   ]
  },
  {
   "cell_type": "markdown",
   "metadata": {},
   "source": [
    "<h2><u>For Who :</u></h2>\n",
    "<ul>\n",
    "<li>For Python Devs</li>\n",
    "<li>Devs with interst in audio/music</li>\n",
    "<li>Practioners with experience in audio signal processing(DSP)</li>\n",
    "<li>Data Analysts who want to step up their game</li>\n",
    "</ul>"
   ]
  },
  {
   "cell_type": "markdown",
   "metadata": {},
   "source": [
    "<h2><u>Prerequistes:</u></h2>\n",
    "<ul>\n",
    "<li>Intermediate Python Coding skills</li>\n",
    "<li>Basic Linear Algebra</li>\n",
    "<li>Basic Audio DSP</li>\n",
    "</ul>"
   ]
  },
  {
   "cell_type": "markdown",
   "metadata": {},
   "source": [
    "<h1>Size of (AI>ML>DL)</h1>\n"
   ]
  },
  {
   "cell_type": "markdown",
   "metadata": {},
   "source": [
    "<h3><u>Definitition of Artificial Intelligence:</u></h3>\n",
    "<p>\n",
    "\"The Designing and building of intelligent agents that recieve percepts form the environement and take actionsthat affect that environment\"\n",
    "</p>\n",
    "<p>\n",
    "    <li>Ques:What is a Intelligent Agent?</li>\n",
    "    <li>Ans:It is an Rational Agent</li>\n",
    "</p>\n",
    "<p>\n",
    "    <li>Ques:What is Rational Agent then??</li>\n",
    "    <li>Ans:Acting to achieve one's goals given one's beliefs</li>\n",
    "</p>\n",
    "<p>\n",
    "    <li>Ques:What is ml?</li>\n",
    "    <li>Ans:\n",
    "        <ul>\n",
    "        <li>computer performs a task without using explcit instructions</li>\n",
    "        <li>computer learns from data</li>\n",
    "        </ul>\n",
    "<p>\n",
    "<p>\n",
    "    <li>Onset Detection task:To identify start of a musical note</li>\n",
    "    <li>Ans:\n",
    "        <ul>\n",
    "            <li>expert system:we provide rules to indentify high amplitude ccases,need to add pictures,then </li>\n",
    "            <li>ML onset system:learns rules itself,we have lot of labeled data..learning..then we can use it for inference</li>\n",
    "        </ul>\n",
    "</p>"
   ]
  },
  {
   "cell_type": "markdown",
   "metadata": {},
   "source": [
    "<h2><u>ML Paradigms</u></h2>\n",
    "<ul>\n",
    "<li>\n",
    "    <b>Supervised Learning:</b>\n",
    "    Model trained with labelled data which identify rules itself and then used for reference\n",
    "</li>\n",
    "<li>\n",
    "<b>Unsupervised Learning:</b>Models drawsinferences from unstructured data\n",
    "</li>\n",
    "<li>\n",
    "<b>Reinforcement Learning:</b>\n",
    "Agent takes actions in virtual environment and learns through rewards..\n",
    "</li>\n",
    "<ul>"
   ]
  },
  {
   "cell_type": "markdown",
   "metadata": {},
   "source": [
    "<h2><u>ML Algorithms</u></h2>\n",
    "<ul>\n",
    "<li>Logistic Regression</li>\n",
    "<li>Linear Regression</li>\n",
    "<li>Random Foresst</li>\n",
    "<li>KNN</li>\n",
    "<li>Support Vector Machines</li>\n",
    "<li>Neural Networks</li>\n",
    "</ul>"
   ]
  },
  {
   "cell_type": "markdown",
   "metadata": {},
   "source": [
    "<h2><u>Deep Learning</u></h2>\n",
    "<ul>\n",
    "    <li>ML Subset</li>\n",
    "    <li>(deep)neural networks with (>1) hidden layer</li>\n",
    "</ul>\n",
    "\n",
    "<h2><u>Traditonal ML vs DL</u></h2>\n",
    "<ul>\n",
    "<li>Feature:We add feature to it</li>\n",
    "<li>End to End:It figure out all by itself</li>\n",
    "<li>Realatively small dataset vs large dataset</li>\n",
    "<li> Less computation intensive vs very resource intensive</li>\n",
    "<li>Ideal for\"simple\"problems vs ideal for\"complex problems</li>\n",
    "</ul>\n",
    "<h2><u>When should you use DL??</u></h2>\n",
    "<ul>\n",
    "    <li>Very Large Dataset</li>\n",
    "    <li>Complex problem where traditional ML fails</li>\n",
    "    <li>Access to extensive computational resources</li>\n",
    "    <li>Don't ALways use DL</li>\n",
    "</ul>\n",
    "<h2><u>DL applications in Audio</u></h2>\n",
    "<ul>\n",
    "    <li>Speech REcognition</li>\n",
    "    <li>Voice -base emotion classifcation</li>\n",
    "    <li>Noise recogniton</li>\n",
    "    <li>Musical Genre,instrument,mood classification</li>\n",
    "    <li>Music Tagging,Music Generation</li>\n",
    "</ul>"
   ]
  },
  {
   "cell_type": "markdown",
   "metadata": {},
   "source": [
    "The Artificial Neuron\n",
    "![](https://insights.sei.cmu.edu/sei_blog/sestilli_deeplearning_artificialneuron3.png)"
   ]
  },
  {
   "cell_type": "markdown",
   "metadata": {},
   "source": [
    "![](https://cdn-images-1.medium.com/max/1600/1*ZafDv3VUm60Eh10OeJu1vw.png)\n",
    "![](https://miro.medium.com/max/1400/1*TdlBJnoH3GcKwAIFv1ASxg.jpeg)"
   ]
  },
  {
   "cell_type": "markdown",
   "metadata": {},
   "source": [
    "<h2><u>Implementing an Artificial Neuron in python from scratch</u></h2>\n",
    "<ul>\n",
    "    <li>Artificial nurons are loosely inspired to biological neurons</li>\n",
    "    <li>Artificial neurons are computational units</li>\n",
    "    <li>They transform inputs inot outputs using an sctivation function</li>\n",
    "</ul>"
   ]
  },
  {
   "cell_type": "code",
   "execution_count": 14,
   "metadata": {},
   "outputs": [],
   "source": [
    "import math"
   ]
  },
  {
   "cell_type": "code",
   "execution_count": 15,
   "metadata": {},
   "outputs": [],
   "source": [
    "def sigmoid(x):\n",
    "     \"\"\"Sigmoid activation function\n",
    "    Args:\n",
    "        x (float): Value to be processed\n",
    "    Returns:\n",
    "        y (float): Output\n",
    "    \"\"\"\n",
    "    y=1.0/(1+math.exp(-x))\n",
    "    return y"
   ]
  },
  {
   "cell_type": "code",
   "execution_count": 16,
   "metadata": {},
   "outputs": [],
   "source": [
    "#netinput=0;\n",
    "#why ican't use fucntiona activate\n",
    "def activate(inputs,weights):\n",
    "      \"\"\"Computes activation of neuron based on input signals and connection\n",
    "    weights. Output = f(x_1*w_1 + x_2*w_2 + ... + x_k*w_k), where 'f' is the\n",
    "    sigmoid function.\n",
    "    Args:\n",
    "        inputs (list): Input signals\n",
    "        weights (list): Connection weights\n",
    "    Returns:\n",
    "        output (float): Output value\n",
    "    \"\"\"\n",
    "    #perform net input\n",
    "    #for i in inputs: \n",
    "     #  netinput=netinput+inputs[i]*weight[i]\n",
    "    h=0\n",
    "    \n",
    "    # compute the sum of the product of the input signals and the weights\n",
    "    # here we're using pythons \"zip\" function to iterate two lists together\n",
    "    for x,w in zip(inputs,weights):\n",
    "        h+=x*w\n",
    "        \n",
    "    #perform activation\n",
    "    # process sum through sigmoid activation function\n",
    "    return sigmoid(h)\n",
    "    "
   ]
  },
  {
   "cell_type": "code",
   "execution_count": 17,
   "metadata": {},
   "outputs": [
    {
     "name": "stdout",
     "output_type": "stream",
     "text": [
      "0.610639233949222\n"
     ]
    }
   ],
   "source": [
    "if __name__ == \"__main__\":\n",
    "    inputs=[ .5, .3, .2]\n",
    "    weights=[ .4, .7, .2]\n",
    "    output=activate(inputs,weights)\n",
    "    print(output)"
   ]
  },
  {
   "cell_type": "markdown",
   "metadata": {},
   "source": [
    "<h2>Vectors</h2>\n",
    "    <p>Vectors are array of numbers</p>\n",
    "<h2>Scalar Operations</h2>\n",
    "<li>Involves a vector and a number(scalar)</li>\n",
    "<li>Addition/Subs/MUlti/Division</li>\n",
    "add notes link here for math in it"
   ]
  },
  {
   "cell_type": "markdown",
   "metadata": {},
   "source": [
    "WHy we need neural needed?\n",
    "<ul>\n",
    "    <li>A single neuron for linear problems</li>\n",
    "    <li>Real-world problems are complex</li>\n",
    "    <li>ANNs(artiifcal nuron networks) can reproduce highly non-linear functions</li>\n",
    "</ul>\n",
    "\n",
    "<h2><u>The components of an artificial neuron network(ANN)</u></h2>\n",
    "<ul>\n",
    "    <li>Neurons</li>\n",
    "    <li>Input,hidden,output layers</li>\n",
    "    <li>Weighted Connections</li>\n",
    "    <li>Activation Function</li>\n",
    "</ul>\n",
    "Those input layer neuron are connected to all h1 layers are given weighted connections"
   ]
  },
  {
   "cell_type": "markdown",
   "metadata": {},
   "source": [
    "![](https://www.researchgate.net/profile/Facundo_Bre/publication/321259051/figure/fig1/AS:614329250496529@1523478915726/Artificial-neural-network-architecture-ANN-i-h-1-h-2-h-n-o.png)"
   ]
  },
  {
   "cell_type": "markdown",
   "metadata": {},
   "source": [
    "<h2><u>The Mulitlayer Perceptron(MLP)</u></h2>\n",
    "<ul>\n",
    "    <li>Specific type of neural network</li>\n",
    "    <li>info travels from left to right-type of feed forward network</li>\n",
    "</ul>\n",
    "<h2><u>Computation in MLP</u></h2>\n",
    "<ul>\n",
    "    <li>Weights</li>\n",
    "    <li>Net Inputs(sum of weighted inputs)</li>\n",
    "    <li>Activations(output of neurons to next layer)</li>\n",
    "</ul>"
   ]
  },
  {
   "cell_type": "markdown",
   "metadata": {},
   "source": [
    "![](https://www.researchgate.net/profile/Allan_Kardec_Barros_Filho/publication/274240858/figure/fig1/AS:392021136166914@1470476530215/TOPOLOGY-OF-A-MULTILAYER-PERCEPTRON-NEURAL-NETWORK.png)"
   ]
  },
  {
   "cell_type": "markdown",
   "metadata": {},
   "source": [
    "![](https://i.imgur.com/lVZ7Jzc.png)"
   ]
  },
  {
   "cell_type": "markdown",
   "metadata": {},
   "source": [
    "then we can calculate activation and then calculate output using another activation ficntion\n",
    "Sample computation:\n",
    "Add note link here"
   ]
  },
  {
   "cell_type": "code",
   "execution_count": null,
   "metadata": {},
   "outputs": [],
   "source": [
    "#IMplementing a neural network from scratch\n",
    "import numpy as np\n",
    "\n",
    "class MLP(object):\n",
    "    #a multilayer perceptron class\n",
    "    def __init__(self,num_input=3,hidden_layers=[3,3],num_outputs=2):\n",
    "          \"\"\"Constructor for the MLP. Takes the number of inputs,\n",
    "            a variable number of hidden layers, and number of outputs\n",
    "        Args:\n",
    "            num_inputs (int): Number of inputs\n",
    "            hidden_layers (list): A list of ints for the hidden layers\n",
    "            num_outputs (int): Number of outputs\n",
    "        \"\"\"\n",
    "        \n",
    "        self.num_inputs = num_inputs\n",
    "        self.hidden_layers = hidden_layers\n",
    "        self.num_outputs = num_outputs\n",
    "        \n",
    "        layers=[num_inputs]+hidden\n",
    "    \n",
    "    \n",
    "        # create random connection weights for the layers\n",
    "        weights = []\n",
    "        for i in range(len(layers)-1):\n",
    "            w = np.random.rand(layers[i], layers[i+1])\n",
    "            weights.append(w)\n",
    "        self.weights = weights\n",
    "        \n",
    "    def forward_propagate(self, inputs):\n",
    "        \"\"\"Computes forward propagation of the network based on input signals.\n",
    "        Args:\n",
    "            inputs (ndarray): Input signals\n",
    "        Returns:\n",
    "            activations (ndarray): Output values\n",
    "        \"\"\"\n",
    "        \n",
    "        # the input layer activation is just the input itself\n",
    "        activations = inputs\n",
    "\n",
    "        # iterate through the network layers\n",
    "        for w in self.weights:\n",
    "\n",
    "            # calculate matrix multiplication between previous activation and weight matrix\n",
    "            net_inputs = np.dot(activations, w)\n",
    "\n",
    "            # apply sigmoid activation function\n",
    "            activations = self._sigmoid(net_inputs)\n",
    "\n",
    "        # return output layer activation\n",
    "        return activations\n",
    "\n",
    "\n",
    "    def _sigmoid(self, x):\n",
    "        \"\"\"Sigmoid activation function\n",
    "        Args:\n",
    "            x (float): Value to be processed\n",
    "        Returns:\n",
    "            y (float): Output\n",
    "        \"\"\"  \n",
    "        y = 1.0 / (1 + np.exp(-x))\n",
    "        return y\n",
    "\n",
    "if __name__ == \"__main__\":\n",
    "\n",
    "    # create a Multilayer Perceptron\n",
    "    mlp = MLP()\n",
    "\n",
    "    # set random values for network's input\n",
    "    inputs = np.random.rand(mlp.num_inputs)\n",
    "\n",
    "    # perform forward propagation\n",
    "    output = mlp.forward_propagate(inputs)\n",
    "\n",
    "    print(\"Network activation: {}\".format(output))"
   ]
  }
 ],
 "metadata": {
  "kernelspec": {
   "display_name": "Python 3",
   "language": "python",
   "name": "python3"
  },
  "language_info": {
   "codemirror_mode": {
    "name": "ipython",
    "version": 3
   },
   "file_extension": ".py",
   "mimetype": "text/x-python",
   "name": "python",
   "nbconvert_exporter": "python",
   "pygments_lexer": "ipython3",
   "version": "3.7.6"
  }
 },
 "nbformat": 4,
 "nbformat_minor": 4
}
